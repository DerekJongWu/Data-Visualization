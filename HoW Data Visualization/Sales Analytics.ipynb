{
 "cells": [
  {
   "cell_type": "code",
   "execution_count": 2,
   "metadata": {},
   "outputs": [],
   "source": [
    "import pandas as pd\n",
    "import numpy as np\n",
    "import matplotlib.pyplot as plt"
   ]
  },
  {
   "cell_type": "code",
   "execution_count": 3,
   "metadata": {},
   "outputs": [],
   "source": [
    "df = pd.read_excel('Copy of LISA YTD ORDER SUMMARY 7.16.19.xlsx')"
   ]
  },
  {
   "cell_type": "markdown",
   "metadata": {},
   "source": [
    "# Clean Data"
   ]
  },
  {
   "cell_type": "code",
   "execution_count": 4,
   "metadata": {},
   "outputs": [
    {
     "name": "stdout",
     "output_type": "stream",
     "text": [
      "       month 2019_Qty   2019_$ 2018_Qty  2018_$ diff_Qty   diff_$    %diff_$\n",
      "4    JANUARY     2069   334725     2284  343536     -215 -8810.95 -0.0256479\n",
      "5   FEBRUARY     2135   401758     2352  363484     -217  38274.4   0.105299\n",
      "6      MARCH     3543   618201     4317  793037     -774  -174836  -0.220464\n",
      "7      APRIL     2804   495230     4349  738547    -1545  -243317  -0.329453\n",
      "8        MAY     1700   258111     3186  470920    -1486  -212809    -0.4519\n",
      "9       JUNE     1334   210974     2108  266995     -774 -56021.1  -0.209821\n",
      "10  JULY MTD      583  82168.8      834  108050     -251 -25881.1  -0.239529\n"
     ]
    }
   ],
   "source": [
    "data= df.iloc[:14]\n",
    "data = data.drop(columns = 'Unnamed: 0')\n",
    "data = data.drop(columns = \"Unnamed: 9\")\n",
    "data.rename(columns={'YTD ORDER SUMMARY':'month'}, inplace=True)\n",
    "data.rename(columns={'Unnamed: 2':'2019_Qty'}, inplace=True)\n",
    "data.rename(columns={'Unnamed: 3':'2019_$'}, inplace=True)\n",
    "data.rename(columns={'Unnamed: 4':'2018_Qty'}, inplace=True)\n",
    "data.rename(columns={'Unnamed: 5':'2018_$'}, inplace=True)\n",
    "data.rename(columns={'Unnamed: 6':'diff_Qty'}, inplace=True)\n",
    "data.rename(columns={'Unnamed: 7':'diff_$'}, inplace=True)\n",
    "data.rename(columns={'Unnamed: 8':'%diff_$'}, inplace=True)\n",
    "data = data.drop([0,1,2,3,11,12,13])\n",
    "print(data)"
   ]
  },
  {
   "cell_type": "code",
   "execution_count": 1,
   "metadata": {},
   "outputs": [
    {
     "ename": "NameError",
     "evalue": "name 'data' is not defined",
     "output_type": "error",
     "traceback": [
      "\u001b[0;31m---------------------------------------------------------------------------\u001b[0m",
      "\u001b[0;31mNameError\u001b[0m                                 Traceback (most recent call last)",
      "\u001b[0;32m<ipython-input-1-1b2f523ea995>\u001b[0m in \u001b[0;36m<module>\u001b[0;34m\u001b[0m\n\u001b[0;32m----> 1\u001b[0;31m \u001b[0max\u001b[0m \u001b[0;34m=\u001b[0m \u001b[0mdata\u001b[0m\u001b[0;34m.\u001b[0m\u001b[0mplot\u001b[0m\u001b[0;34m(\u001b[0m\u001b[0mx\u001b[0m\u001b[0;34m=\u001b[0m\u001b[0;34m'month'\u001b[0m\u001b[0;34m,\u001b[0m \u001b[0my\u001b[0m\u001b[0;34m=\u001b[0m\u001b[0;34m'2019_Qty'\u001b[0m\u001b[0;34m,\u001b[0m \u001b[0mrot\u001b[0m \u001b[0;34m=\u001b[0m \u001b[0;34m'0'\u001b[0m\u001b[0;34m,\u001b[0m \u001b[0mkind\u001b[0m\u001b[0;34m=\u001b[0m \u001b[0;34m'bar'\u001b[0m\u001b[0;34m,\u001b[0m \u001b[0mfigsize\u001b[0m\u001b[0;34m=\u001b[0m\u001b[0;34m(\u001b[0m\u001b[0;36m7\u001b[0m\u001b[0;34m,\u001b[0m \u001b[0;36m7\u001b[0m\u001b[0;34m)\u001b[0m\u001b[0;34m)\u001b[0m\u001b[0;34m\u001b[0m\u001b[0;34m\u001b[0m\u001b[0m\n\u001b[0m\u001b[1;32m      2\u001b[0m \u001b[0max\u001b[0m\u001b[0;34m.\u001b[0m\u001b[0mset_xlabel\u001b[0m\u001b[0;34m(\u001b[0m\u001b[0;34m\"Month\"\u001b[0m\u001b[0;34m)\u001b[0m\u001b[0;34m\u001b[0m\u001b[0;34m\u001b[0m\u001b[0m\n\u001b[1;32m      3\u001b[0m \u001b[0max\u001b[0m\u001b[0;34m.\u001b[0m\u001b[0mset_ylabel\u001b[0m\u001b[0;34m(\u001b[0m\u001b[0;34m\"Qty Sold\"\u001b[0m\u001b[0;34m)\u001b[0m\u001b[0;34m\u001b[0m\u001b[0;34m\u001b[0m\u001b[0m\n\u001b[1;32m      4\u001b[0m \u001b[0max\u001b[0m\u001b[0;34m.\u001b[0m\u001b[0mset_title\u001b[0m\u001b[0;34m(\u001b[0m\u001b[0;34m'Total Quantity Sold by Month'\u001b[0m\u001b[0;34m)\u001b[0m\u001b[0;34m\u001b[0m\u001b[0;34m\u001b[0m\u001b[0m\n\u001b[1;32m      5\u001b[0m \u001b[0mplt\u001b[0m\u001b[0;34m.\u001b[0m\u001b[0msavefig\u001b[0m\u001b[0;34m(\u001b[0m\u001b[0;34m\"Total.jpg\"\u001b[0m\u001b[0;34m)\u001b[0m\u001b[0;34m\u001b[0m\u001b[0;34m\u001b[0m\u001b[0m\n",
      "\u001b[0;31mNameError\u001b[0m: name 'data' is not defined"
     ]
    }
   ],
   "source": [
    "ax = data.plot(x='month', y='2019_Qty', rot = '0', kind= 'bar', figsize=(7, 7))\n",
    "ax.set_xlabel(\"Month\")\n",
    "ax.set_ylabel(\"Qty Sold\")\n",
    "ax.set_title('Total Quantity Sold by Month')\n",
    "plt.savefig(\"Total.jpg\")"
   ]
  },
  {
   "cell_type": "code",
   "execution_count": 6,
   "metadata": {},
   "outputs": [
    {
     "data": {
      "text/plain": [
       "Text(0.5, 1.0, 'Total Quantity Sold by Month')"
      ]
     },
     "execution_count": 6,
     "metadata": {},
     "output_type": "execute_result"
    },
    {
     "data": {
      "image/png": "[encoded data removed]",
      "text/plain": [
       "<Figure size 504x504 with 1 Axes>"
      ]
     },
     "metadata": {
      "needs_background": "light"
     },
     "output_type": "display_data"
    }
   ],
   "source": [
    "ax2 = data.plot(kind='bar', x = 'month', y = {'2019_Qty', '2018_Qty'}, rot = '0', figsize = (7,7))\n",
    "ax2.set_xlabel(\"Month\")\n",
    "ax2.set_ylabel(\"Qty Sold\")\n",
    "ax2.set_title('Total Quantity Sold by Month')"
   ]
  },
  {
   "cell_type": "code",
   "execution_count": 7,
   "metadata": {},
   "outputs": [
    {
     "name": "stdout",
     "output_type": "stream",
     "text": [
      "       Month 2019_Qty   2019_$ 2018_Qty   2018_$ diff_Qty   diff_$   %diff_$\n",
      "16   JANUARY      229  37942.6      321  46231.5      -92  -8288.9 -0.179291\n",
      "17  FEBRUARY      262  48437.4      296  43101.5      -34   5335.9  0.123798\n",
      "18     MARCH      395  71141.4      282    56141      113  15000.4  0.267192\n",
      "19     APRIL      311  52128.2      598   119685     -287 -67556.5 -0.564454\n",
      "20       MAY      129    15452      318  41264.8     -189 -25812.8  -0.62554\n",
      "21      JUNE      122  14868.8      235  28163.5     -113 -13294.7 -0.472054\n",
      "22      JULY       62     9232      102    12709      -40    -3477 -0.273586\n"
     ]
    },
    {
     "name": "stderr",
     "output_type": "stream",
     "text": [
      "/anaconda3/lib/python3.6/site-packages/pandas/core/frame.py:4218: SettingWithCopyWarning: \n",
      "A value is trying to be set on a copy of a slice from a DataFrame\n",
      "\n",
      "See the caveats in the documentation: http://pandas.pydata.org/pandas-docs/stable/user_guide/indexing.html#returning-a-view-versus-a-copy\n",
      "  return super().rename(**kwargs)\n"
     ]
    }
   ],
   "source": [
    "AL_data= df.iloc[15:23]\n",
    "AL_data.rename(columns={'Unnamed: 2':'Month'}, inplace=True)\n",
    "AL_data.rename(columns={'Unnamed: 3':'2019_Qty'}, inplace=True)\n",
    "AL_data.rename(columns={'Unnamed: 4':'2019_$'}, inplace=True)\n",
    "AL_data.rename(columns={'Unnamed: 5':'2018_Qty'}, inplace=True)\n",
    "AL_data.rename(columns={'Unnamed: 6':'2018_$'}, inplace=True)\n",
    "AL_data.rename(columns={'Unnamed: 7':'diff_Qty'}, inplace=True)\n",
    "AL_data.rename(columns={'Unnamed: 8':'diff_$'}, inplace=True)\n",
    "AL_data.rename(columns={'Unnamed: 9':'%diff_$'}, inplace=True)\n",
    "AL_data = AL_data.drop(columns = 'Unnamed: 0')\n",
    "AL_data = AL_data.drop(columns = 'YTD ORDER SUMMARY')\n",
    "AL_data = AL_data.drop([15])\n",
    "print(AL_data)"
   ]
  },
  {
   "cell_type": "code",
   "execution_count": 8,
   "metadata": {},
   "outputs": [
    {
     "name": "stdout",
     "output_type": "stream",
     "text": [
      "       Month 2019_Qty   2019_$ 2018_Qty   2018_$ diff_Qty   diff_$   %diff_$\n",
      "24   JANUARY      426  75217.7      578    86427     -152 -11209.3 -0.129697\n",
      "25  FEBRUARY      504  93439.9      527    91260      -23  2179.93  0.023887\n",
      "26     MARCH      821   168831     1344   280159     -523  -111328 -0.397375\n",
      "27     APRIL      492  97929.7      710   116537     -218   -18607 -0.159667\n",
      "28       MAY      404    86197      665   101003     -261 -14805.5 -0.146586\n",
      "29      JUNE      347  67566.9      713  92395.1     -366 -24828.2 -0.268718\n",
      "30      JULY      142  23377.6      234  35739.3      -92 -12361.7 -0.345885\n"
     ]
    }
   ],
   "source": [
    "FL_data= df.iloc[24:32]\n",
    "FL_data.rename(columns={'Unnamed: 2':'Month'}, inplace=True)\n",
    "FL_data.rename(columns={'Unnamed: 3':'2019_Qty'}, inplace=True)\n",
    "FL_data.rename(columns={'Unnamed: 4':'2019_$'}, inplace=True)\n",
    "FL_data.rename(columns={'Unnamed: 5':'2018_Qty'}, inplace=True)\n",
    "FL_data.rename(columns={'Unnamed: 6':'2018_$'}, inplace=True)\n",
    "FL_data.rename(columns={'Unnamed: 7':'diff_Qty'}, inplace=True)\n",
    "FL_data.rename(columns={'Unnamed: 8':'diff_$'}, inplace=True)\n",
    "FL_data.rename(columns={'Unnamed: 9':'%diff_$'}, inplace=True)\n",
    "FL_data = FL_data.drop(columns = 'Unnamed: 0')\n",
    "FL_data = FL_data.drop(columns = 'YTD ORDER SUMMARY')\n",
    "FL_data = FL_data.drop([31])\n",
    "print(FL_data)"
   ]
  },
  {
   "cell_type": "code",
   "execution_count": 14,
   "metadata": {},
   "outputs": [
    {
     "name": "stdout",
     "output_type": "stream",
     "text": [
      "       Month 2019_Qty   2019_$ 2018_Qty   2018_$ diff_Qty   diff_$    %diff_$\n",
      "32   JANUARY      314  57982.4      386  65728.5      -72  -7746.1   -0.11785\n",
      "33  FEBRUARY      412  85308.5      489  78325.3      -77   6983.2  0.0891564\n",
      "34     MARCH      712   125686     1093   208645     -381 -82958.8  -0.397607\n",
      "35     APRIL      553  91757.8      809   145205     -256 -53447.2  -0.368081\n",
      "36       MAY      307    51484      462    76232     -155   -24748  -0.324641\n",
      "37      JUNE      225  42688.5      382  56365.5     -157   -13677  -0.242648\n",
      "38      JULY      128  20839.5      103    15359       25   5480.5   0.356827\n"
     ]
    }
   ],
   "source": [
    "GA_data= df.iloc[32:40]\n",
    "GA_data.rename(columns={'Unnamed: 2':'Month'}, inplace=True)\n",
    "GA_data.rename(columns={'Unnamed: 3':'2019_Qty'}, inplace=True)\n",
    "GA_data.rename(columns={'Unnamed: 4':'2019_$'}, inplace=True)\n",
    "GA_data.rename(columns={'Unnamed: 5':'2018_Qty'}, inplace=True)\n",
    "GA_data.rename(columns={'Unnamed: 6':'2018_$'}, inplace=True)\n",
    "GA_data.rename(columns={'Unnamed: 7':'diff_Qty'}, inplace=True)\n",
    "GA_data.rename(columns={'Unnamed: 8':'diff_$'}, inplace=True)\n",
    "GA_data.rename(columns={'Unnamed: 9':'%diff_$'}, inplace=True)\n",
    "GA_data = GA_data.drop(columns = 'Unnamed: 0')\n",
    "GA_data = GA_data.drop(columns = 'YTD ORDER SUMMARY')\n",
    "GA_data = GA_data.drop([39])\n",
    "print(GA_data)"
   ]
  },
  {
   "cell_type": "code",
   "execution_count": 33,
   "metadata": {},
   "outputs": [
    {
     "name": "stdout",
     "output_type": "stream",
     "text": [
      "       Month 2019_Qty   2019_$ 2018_Qty 2018_$ diff_Qty   diff_$    %diff_$\n",
      "40   JANUARY      126  20723.2      154  23140      -28 -2416.75   -0.10444\n",
      "41  FEBRUARY      156  31392.2      180  21958      -24  9434.25    0.42965\n",
      "42     MARCH      456    69522      281  45083      175    24439   0.542089\n",
      "43     APRIL      244  39250.5      390  59719     -146 -20468.5  -0.342747\n",
      "44       MAY      106     9244      553  83540     -447   -74296  -0.889346\n",
      "45      JUNE       86  15246.9      146  15864      -60   -617.1 -0.0388994\n",
      "46      JULY       48   6465.5       89  11081      -41  -4615.5  -0.416524\n"
     ]
    }
   ],
   "source": [
    "KY_data= df.iloc[40:48]\n",
    "KY_data.rename(columns={'Unnamed: 2':'Month'}, inplace=True)\n",
    "KY_data.rename(columns={'Unnamed: 3':'2019_Qty'}, inplace=True)\n",
    "KY_data.rename(columns={'Unnamed: 4':'2019_$'}, inplace=True)\n",
    "KY_data.rename(columns={'Unnamed: 5':'2018_Qty'}, inplace=True)\n",
    "KY_data.rename(columns={'Unnamed: 6':'2018_$'}, inplace=True)\n",
    "KY_data.rename(columns={'Unnamed: 7':'diff_Qty'}, inplace=True)\n",
    "KY_data.rename(columns={'Unnamed: 8':'diff_$'}, inplace=True)\n",
    "KY_data.rename(columns={'Unnamed: 9':'%diff_$'}, inplace=True)\n",
    "KY_data = KY_data.drop(columns = 'Unnamed: 0')\n",
    "KY_data = KY_data.drop(columns = 'YTD ORDER SUMMARY')\n",
    "KY_data = KY_data.drop([47])\n",
    "print(KY_data)"
   ]
  },
  {
   "cell_type": "code",
   "execution_count": 36,
   "metadata": {},
   "outputs": [
    {
     "name": "stdout",
     "output_type": "stream",
     "text": [
      "       Month 2019_Qty   2019_$ 2018_Qty   2018_$ diff_Qty   diff_$    %diff_$\n",
      "48   JANUARY      219    28275      193  21855.5       26   6419.5   0.293725\n",
      "49  FEBRUARY      247  41613.8      187    23570       60  18043.8   0.765539\n",
      "50     MARCH      398  51917.8      215    26057      183  25860.8   0.992468\n",
      "51     APRIL      166  21256.8      356    49156     -190 -27899.2  -0.567566\n",
      "52       MAY      159    17786      265    40514     -106   -22728  -0.560991\n",
      "53      JUNE      117    11967      136  12898.5      -19   -931.5 -0.0722177\n",
      "54      JULY       50     4142       56     5334       -6    -1192  -0.223472\n"
     ]
    }
   ],
   "source": [
    "MS_data= df.iloc[48:56]\n",
    "MS_data.rename(columns={'Unnamed: 2':'Month'}, inplace=True)\n",
    "MS_data.rename(columns={'Unnamed: 3':'2019_Qty'}, inplace=True)\n",
    "MS_data.rename(columns={'Unnamed: 4':'2019_$'}, inplace=True)\n",
    "MS_data.rename(columns={'Unnamed: 5':'2018_Qty'}, inplace=True)\n",
    "MS_data.rename(columns={'Unnamed: 6':'2018_$'}, inplace=True)\n",
    "MS_data.rename(columns={'Unnamed: 7':'diff_Qty'}, inplace=True)\n",
    "MS_data.rename(columns={'Unnamed: 8':'diff_$'}, inplace=True)\n",
    "MS_data.rename(columns={'Unnamed: 9':'%diff_$'}, inplace=True)\n",
    "MS_data = MS_data.drop(columns = 'Unnamed: 0')\n",
    "MS_data = MS_data.drop(columns = 'YTD ORDER SUMMARY')\n",
    "MS_data = MS_data.drop([55])\n",
    "print(MS_data)"
   ]
  },
  {
   "cell_type": "code",
   "execution_count": 38,
   "metadata": {},
   "outputs": [
    {
     "name": "stdout",
     "output_type": "stream",
     "text": [
      "       Month 2019_Qty   2019_$ 2018_Qty   2018_$ diff_Qty   diff_$     %diff_$\n",
      "56   JANUARY      335  58520.5      277    50514       58   8006.5    0.158501\n",
      "57  FEBRUARY      241  53720.7      253  49382.5      -12   4338.2   0.0878489\n",
      "58     MARCH      237  44599.2      446  84372.5     -209 -39773.2   -0.471401\n",
      "59     APRIL      476    95588      523  94198.8      -47  1389.23   0.0147479\n",
      "60       MAY      229  36825.7      235  39386.5       -6 -2560.85  -0.0650185\n",
      "61      JUNE      217    33813      221    33177       -4      636   0.0191699\n",
      "62      JULY       78    10098      105    10006      -27       92  0.00919448\n"
     ]
    }
   ],
   "source": [
    "NC_data= df.iloc[56:64]\n",
    "NC_data.rename(columns={'Unnamed: 2':'Month'}, inplace=True)\n",
    "NC_data.rename(columns={'Unnamed: 3':'2019_Qty'}, inplace=True)\n",
    "NC_data.rename(columns={'Unnamed: 4':'2019_$'}, inplace=True)\n",
    "NC_data.rename(columns={'Unnamed: 5':'2018_Qty'}, inplace=True)\n",
    "NC_data.rename(columns={'Unnamed: 6':'2018_$'}, inplace=True)\n",
    "NC_data.rename(columns={'Unnamed: 7':'diff_Qty'}, inplace=True)\n",
    "NC_data.rename(columns={'Unnamed: 8':'diff_$'}, inplace=True)\n",
    "NC_data.rename(columns={'Unnamed: 9':'%diff_$'}, inplace=True)\n",
    "NC_data = NC_data.drop(columns = 'Unnamed: 0')\n",
    "NC_data = NC_data.drop(columns = 'YTD ORDER SUMMARY')\n",
    "NC_data = NC_data.drop([63])\n",
    "print(NC_data)"
   ]
  },
  {
   "cell_type": "code",
   "execution_count": 40,
   "metadata": {},
   "outputs": [
    {
     "name": "stdout",
     "output_type": "stream",
     "text": [
      "['JANUARY' 'FEBRUARY' 'MARCH' 'APRIL' 'MAY' 'JUNE' 'JULY']\n"
     ]
    },
    {
     "data": {
      "image/png": "[encoded data removed]",
      "text/plain": [
       "<Figure size 504x504 with 1 Axes>"
      ]
     },
     "metadata": {
      "needs_background": "light"
     },
     "output_type": "display_data"
    }
   ],
   "source": [
    "FL_qty = np.array(FL_data['2019_Qty'])\n",
    "AL_qty = np.array(AL_data['2019_Qty'])\n",
    "GA_qty = np.array(GA_data['2019_Qty'])\n",
    "KY_qty = np.array(KY_data['2019_Qty'])\n",
    "MS_qty = np.array(MS_data['2019_Qty'])\n",
    "NC_qty = np.array(NC_data['2019_Qty'])\n",
    "months = np.array(FL_data['Month'])\n",
    "\n",
    "print(months)\n",
    "\n",
    "plt.figure(figsize = (7,7))\n",
    "p1 = plt.bar(months, FL_qty, label = 'Florida')\n",
    "p2 = plt.bar(months, AL_qty, bottom = FL_qty, label = 'Alabama')\n",
    "p3 = plt.bar(months, GA_qty, bottom = FL_qty + AL_qty, label = 'Georgia')\n",
    "p4 = plt.bar(months, KY_qty, bottom = FL_qty + AL_qty + GA_qty, label = 'Kentucky')\n",
    "p5 = plt.bar(months, MS_qty, bottom = FL_qty + AL_qty + GA_qty + KY_qty, label = 'Mississippi')\n",
    "p6 = plt.bar(months, NC_qty, bottom = FL_qty + AL_qty + GA_qty + KY_qty + MS_qty, label = 'North Carolina')\n",
    "plt.legend()\n",
    "plt.title('Quantity Sold by State')\n",
    "plt.show()"
   ]
  },
  {
   "cell_type": "code",
   "execution_count": null,
   "metadata": {},
   "outputs": [],
   "source": []
  },
  {
   "cell_type": "code",
   "execution_count": null,
   "metadata": {},
   "outputs": [],
   "source": []
  }
 ],
 "metadata": {
  "kernelspec": {
   "display_name": "Python 3",
   "language": "python",
   "name": "python3"
  },
  "language_info": {
   "codemirror_mode": {
    "name": "ipython",
    "version": 3
   },
   "file_extension": ".py",
   "mimetype": "text/x-python",
   "name": "python",
   "nbconvert_exporter": "python",
   "pygments_lexer": "ipython3",
   "version": "3.6.8"
  }
 },
 "nbformat": 4,
 "nbformat_minor": 2
}
